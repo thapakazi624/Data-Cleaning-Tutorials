{
 "cells": [
  {
   "cell_type": "markdown",
   "metadata": {},
   "source": [
    "\n",
    "# Setup\n"
   ]
  },
  {
   "cell_type": "code",
   "execution_count": 2,
   "metadata": {
    "execution": {
     "iopub.execute_input": "2022-08-07T11:41:52.028401Z",
     "iopub.status.busy": "2022-08-07T11:41:52.027976Z",
     "iopub.status.idle": "2022-08-07T11:41:55.705334Z",
     "shell.execute_reply": "2022-08-07T11:41:55.704532Z",
     "shell.execute_reply.started": "2022-08-07T11:41:52.028365Z"
    }
   },
   "outputs": [],
   "source": [
    "from learntools.core import binder\n",
    "binder.bind(globals())\n",
    "from learntools.data_cleaning.ex1 import *\n",
    "print(\"Setup Complete\")"
   ]
  },
  {
   "cell_type": "markdown",
   "metadata": {},
   "source": [
    "# 1) Take a first look at the data\n",
    "\n"
   ]
  },
  {
   "cell_type": "code",
   "execution_count": 3,
   "metadata": {
    "execution": {
     "iopub.execute_input": "2022-08-07T11:42:00.100280Z",
     "iopub.status.busy": "2022-08-07T11:42:00.099870Z",
     "iopub.status.idle": "2022-08-07T11:42:01.581117Z",
     "shell.execute_reply": "2022-08-07T11:42:01.579972Z",
     "shell.execute_reply.started": "2022-08-07T11:42:00.100245Z"
    }
   },
   "outputs": [],
   "source": [
    "# modules we'll use\n",
    "import pandas as pd\n",
    "import numpy as np\n",
    "\n",
    "# read in all our data\n",
    "sf_permits = pd.read_csv(\"../input/building-permit-applications-data/Building_Permits.csv\")\n",
    "\n",
    "# set seed for reproducibility\n",
    "np.random.seed(0) "
   ]
  },
  {
   "cell_type": "markdown",
   "metadata": {},
   "source": [
    "Use the code cell below to print the first five rows of the `sf_permits` DataFrame."
   ]
  },
  {
   "cell_type": "code",
   "execution_count": 4,
   "metadata": {
    "execution": {
     "iopub.execute_input": "2022-08-07T11:42:06.394689Z",
     "iopub.status.busy": "2022-08-07T11:42:06.393896Z",
     "iopub.status.idle": "2022-08-07T11:42:06.438353Z",
     "shell.execute_reply": "2022-08-07T11:42:06.437275Z",
     "shell.execute_reply.started": "2022-08-07T11:42:06.394644Z"
    }
   },
   "outputs": [],
   "source": [
    "# looking at the first five rows in the dataframe\n",
    "sf_permits.head()\n"
   ]
  },
  {
   "cell_type": "markdown",
   "metadata": {},
   "source": [
    "# 2) How many missing data points do we have?"
   ]
  },
  {
   "cell_type": "code",
   "execution_count": 8,
   "metadata": {
    "execution": {
     "iopub.execute_input": "2022-08-07T11:49:17.812546Z",
     "iopub.status.busy": "2022-08-07T11:49:17.812099Z",
     "iopub.status.idle": "2022-08-07T11:49:18.055430Z",
     "shell.execute_reply": "2022-08-07T11:49:18.054356Z",
     "shell.execute_reply.started": "2022-08-07T11:49:17.812494Z"
    }
   },
   "outputs": [],
   "source": [
    "# checking the percentage of data missing\n",
    "# here we check missing values per column\n",
    "missing_values = sf_permits.isnull().sum()\n",
    "\n",
    "#finding summ of missing values\n",
    "total_missing_values = missing_values.sum()\n",
    "all_cells = np.product(sf_permits.shape)\n",
    "\n",
    "# now the percentage of missing values\n",
    "percent_missing = (total_missing_values/all_cells) * 100\n"
   ]
  },
  {
   "cell_type": "markdown",
   "metadata": {},
   "source": [
    "# 3) Figure out why the data is missing\n"
   ]
  },
  {
   "cell_type": "code",
   "execution_count": 11,
   "metadata": {
    "execution": {
     "iopub.execute_input": "2022-08-07T11:53:55.075032Z",
     "iopub.status.busy": "2022-08-07T11:53:55.074107Z",
     "iopub.status.idle": "2022-08-07T11:53:55.082937Z",
     "shell.execute_reply": "2022-08-07T11:53:55.081788Z",
     "shell.execute_reply.started": "2022-08-07T11:53:55.074988Z"
    }
   },
   "outputs": [],
   "source": [
    "# finding the reasons why the values are missing\n",
    "missing_values[0:10]\n",
    "# here we know that street Number Suffix has many missing values which is kept as Null.\n",
    "\n"
   ]
  },
  {
   "cell_type": "markdown",
   "metadata": {},
   "source": [
    "# 4) Drop missing values: rows"
   ]
  },
  {
   "cell_type": "code",
   "execution_count": 12,
   "metadata": {
    "execution": {
     "iopub.execute_input": "2022-08-07T11:59:42.731457Z",
     "iopub.status.busy": "2022-08-07T11:59:42.730974Z",
     "iopub.status.idle": "2022-08-07T11:59:42.986161Z",
     "shell.execute_reply": "2022-08-07T11:59:42.985095Z",
     "shell.execute_reply.started": "2022-08-07T11:59:42.731419Z"
    }
   },
   "outputs": [],
   "source": [
    "# Now we are removing column with missing values (null values)\n",
    "\n",
    "sf_permits.dropna()\n",
    "#since dropping all the missing values makes our data empty"
   ]
  },
  {
   "cell_type": "markdown",
   "metadata": {},
   "source": [
    "# 5) Drop missing values: columns"
   ]
  },
  {
   "cell_type": "code",
   "execution_count": 16,
   "metadata": {
    "execution": {
     "iopub.execute_input": "2022-08-07T12:04:03.774826Z",
     "iopub.status.busy": "2022-08-07T12:04:03.774393Z",
     "iopub.status.idle": "2022-08-07T12:04:04.051750Z",
     "shell.execute_reply": "2022-08-07T12:04:04.049938Z",
     "shell.execute_reply.started": "2022-08-07T12:04:03.774793Z"
    }
   },
   "outputs": [],
   "source": [
    "# Checking all the columns after missing values are removed\n",
    "sf_permits_with_na_dropped = sf_permits.dropna(axis=1)\n",
    "\n",
    "# calculating number of columns that were dropped\n",
    "col_sf_permits = sf_permits.shape[1]\n",
    "col_na_dropped = sf_permits_with_na_dropped.shape[1]\n",
    "dropped_columns = col_sf_permits - col_na_dropped\n",
    "\n"
   ]
  },
  {
   "cell_type": "markdown",
   "metadata": {},
   "source": [
    "# 6) Fill in missing values automatically"
   ]
  },
  {
   "cell_type": "code",
   "execution_count": 19,
   "metadata": {
    "execution": {
     "iopub.execute_input": "2022-08-07T12:05:42.350775Z",
     "iopub.status.busy": "2022-08-07T12:05:42.349894Z",
     "iopub.status.idle": "2022-08-07T12:05:43.394464Z",
     "shell.execute_reply": "2022-08-07T12:05:43.393547Z",
     "shell.execute_reply.started": "2022-08-07T12:05:42.350734Z"
    }
   },
   "outputs": [],
   "source": [
    "# filling the missing value with bfill method\n",
    "sf_permits_with_na_imputed = sf_permits.fillna(method='bfill', axis=0).fillna(0)\n",
    "# Check your answer\n",
    "q6.check()"
   ]
  }
 ],
 "metadata": {
  "kernelspec": {
   "display_name": "Python 3 (ipykernel)",
   "language": "python",
   "name": "python3"
  },
  "language_info": {
   "codemirror_mode": {
    "name": "ipython",
    "version": 3
   },
   "file_extension": ".py",
   "mimetype": "text/x-python",
   "name": "python",
   "nbconvert_exporter": "python",
   "pygments_lexer": "ipython3",
   "version": "3.10.0"
  }
 },
 "nbformat": 4,
 "nbformat_minor": 4
}
