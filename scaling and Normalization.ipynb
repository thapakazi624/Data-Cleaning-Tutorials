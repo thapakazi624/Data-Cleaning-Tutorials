{
 "cells": [
  {
   "cell_type": "markdown",
   "id": "f4ece89d",
   "metadata": {},
   "source": [
    "# Setup"
   ]
  },
  {
   "cell_type": "code",
   "execution_count": 3,
   "id": "61d1308d",
   "metadata": {},
   "outputs": [],
   "source": [
    "# modules that are going to be used\n",
    "import pandas as pd\n",
    "import numpy as np\n",
    "\n",
    "# for Box-Cox Transformation\n",
    "from scipy import stats\n",
    "\n",
    "# for min_max scaling\n",
    "from mlxtend.preprocessing import minmax_scaling\n",
    "\n",
    "# for plotting\n",
    "import seaborn as sns\n",
    "import matplotlib.pyplot as plt\n"
   ]
  },
  {
   "cell_type": "markdown",
   "id": "02ae5e25",
   "metadata": {},
   "source": [
    "# Data"
   ]
  },
  {
   "cell_type": "code",
   "execution_count": 7,
   "id": "2f3be450",
   "metadata": {},
   "outputs": [],
   "source": [
    "# we are using the data from Kickstarter Platform\n",
    "\n",
    "kickstarters_2017 = pd.read_csv(\"ks-projects-201801.csv\")"
   ]
  },
  {
   "cell_type": "markdown",
   "id": "7f073f8c",
   "metadata": {},
   "source": [
    "# Scaling"
   ]
  },
  {
   "cell_type": "code",
   "execution_count": 8,
   "id": "2a3f919d",
   "metadata": {},
   "outputs": [
    {
     "name": "stdout",
     "output_type": "stream",
     "text": [
      "Orginal data     usd_goal_real\n",
      "0        1533.95\n",
      "1       30000.00\n",
      "2       45000.00\n",
      "3        5000.00\n",
      "4       19500.00\n",
      "Min value: 0.01 Max value: 166361390.71\n",
      "________________________________________\n",
      "Scaled Data:    usd_goal_real\n",
      "0       0.000009\n",
      "1       0.000180\n",
      "2       0.000270\n",
      "3       0.000030\n",
      "4       0.000117\n",
      "Min value: 0.0 Max value: 1.0\n"
     ]
    }
   ],
   "source": [
    "# we are now scaling the usd_goal column\n",
    "original_data  = pd.DataFrame(kickstarters_2017.usd_goal_real)\n",
    "\n",
    "# scaling the goals from 0 to 1\n",
    "scaled_data = minmax_scaling(original_data, columns = ['usd_goal_real'])\n",
    "\n",
    "print(\"Orginal data \", original_data.head())\n",
    "print('Min value:', float(original_data.min()), 'Max value:', float(original_data.max()))\n",
    "print('_'*40)\n",
    "print('Scaled Data:', scaled_data.head())\n",
    "print('Min value:', float(scaled_data.min()),\n",
    "      'Max value:', float(scaled_data.max()))"
   ]
  },
  {
   "cell_type": "code",
   "execution_count": 10,
   "id": "9ac22adc",
   "metadata": {},
   "outputs": [
    {
     "name": "stdout",
     "output_type": "stream",
     "text": [
      "Orginal data        goal\n",
      "0   1000.0\n",
      "1  30000.0\n",
      "2  45000.0\n",
      "3   5000.0\n",
      "4  19500.0\n",
      "Min value: 0.01 Max value: 100000000.0\n",
      "________________________________________\n",
      "Scaled Data:        goal\n",
      "0  0.000010\n",
      "1  0.000300\n",
      "2  0.000450\n",
      "3  0.000050\n",
      "4  0.000195\n",
      "Min value: 0.0 Max value: 1.0\n"
     ]
    }
   ],
   "source": [
    "# we are now scaling the goal column\n",
    "original_data_goal  = pd.DataFrame(kickstarters_2017.goal)\n",
    "\n",
    "# scaling the goal column from 0 to 1\n",
    "scaled_data_goal = minmax_scaling(original_data_goal, columns = ['goal'])\n",
    "\n",
    "print(\"Orginal data \", original_data_goal.head())\n",
    "print('Min value:', float(original_data_goal.min()), 'Max value:', float(original_data_goal.max()))\n",
    "print('_'*40)\n",
    "print('Scaled Data:', scaled_data_goal.head())\n",
    "print('Min value:', float(scaled_data_goal.min()),\n",
    "      'Max value:', float(scaled_data_goal.max()))"
   ]
  },
  {
   "cell_type": "markdown",
   "id": "4aa38bd9",
   "metadata": {},
   "source": [
    "# Normalization"
   ]
  },
  {
   "cell_type": "code",
   "execution_count": 11,
   "id": "acaacd03",
   "metadata": {},
   "outputs": [
    {
     "name": "stdout",
     "output_type": "stream",
     "text": [
      "Orginal data  1     2421.0\n",
      "2      220.0\n",
      "3        1.0\n",
      "4     1283.0\n",
      "5    52375.0\n",
      "Name: usd_pledged_real, dtype: float64\n",
      "Min value: 0.45 Max value: 20338986.27\n",
      "________________________________________\n",
      "Scaled Data: 1    10.165142\n",
      "2     6.468598\n",
      "3     0.000000\n",
      "4     9.129277\n",
      "5    15.836853\n",
      "Name: usd_pledged_real, dtype: float64\n",
      "Min value: -0.7779954122762203 Max value: 30.69054020451361\n"
     ]
    }
   ],
   "source": [
    "# as we know Box-Cox only takes positive values, we are going to take positive values from the index\n",
    "# first we need index\n",
    "index_of_postve_pledges =  kickstarters_2017.usd_pledged_real > 0\n",
    "\n",
    "# now getting positive pledges with the help of index\n",
    "positive_pledges = kickstarters_2017.usd_pledged_real.loc[index_of_postve_pledges]\n",
    "\n",
    "#normalizing with Box-Cox\n",
    "normalized_pledges = pd.Series(stats.boxcox(positive_pledges)[0],\n",
    "                               name='usd_pledged_real', index= positive_pledges.index)\n",
    "\n",
    "# printing the results\n",
    "print(\"Orginal data \", positive_pledges.head())\n",
    "print('Min value:', float(positive_pledges.min()), 'Max value:', float(positive_pledges.max()))\n",
    "print('_'*40)\n",
    "print('Scaled Data:', normalized_pledges.head())\n",
    "print('Min value:', float(normalized_pledges.min()),\n",
    "      'Max value:', float(normalized_pledges.max()))"
   ]
  },
  {
   "cell_type": "code",
   "execution_count": 12,
   "id": "712803ef",
   "metadata": {},
   "outputs": [
    {
     "data": {
      "image/png": "[encoded data removed]",
      "text/plain": [
       "<Figure size 432x288 with 1 Axes>"
      ]
     },
     "metadata": {
      "needs_background": "light"
     },
     "output_type": "display_data"
    }
   ],
   "source": [
    "# now we are plotting the normalized data\n",
    "ax = sns.histplot(normalized_pledges, kde = True)\n",
    "ax.set_title(\"Normalized Data\")\n",
    "plt.show()"
   ]
  },
  {
   "cell_type": "code",
   "execution_count": 16,
   "id": "2650360b",
   "metadata": {},
   "outputs": [
    {
     "data": {
      "image/png": "[encoded data removed]",
      "text/plain": [
       "<Figure size 432x288 with 1 Axes>"
      ]
     },
     "metadata": {
      "needs_background": "light"
     },
     "output_type": "display_data"
    }
   ],
   "source": [
    "ax = sns.histplot(positive_pledges.head(), kde = True)\n",
    "ax.set_title(\"Not Normalized Data\")\n",
    "plt.show()"
   ]
  },
  {
   "cell_type": "code",
   "execution_count": null,
   "id": "1ac957fc",
   "metadata": {},
   "outputs": [],
   "source": []
  }
 ],
 "metadata": {
  "kernelspec": {
   "display_name": "Python 3 (ipykernel)",
   "language": "python",
   "name": "python3"
  },
  "language_info": {
   "codemirror_mode": {
    "name": "ipython",
    "version": 3
   },
   "file_extension": ".py",
   "mimetype": "text/x-python",
   "name": "python",
   "nbconvert_exporter": "python",
   "pygments_lexer": "ipython3",
   "version": "3.10.0"
  }
 },
 "nbformat": 4,
 "nbformat_minor": 5
}
